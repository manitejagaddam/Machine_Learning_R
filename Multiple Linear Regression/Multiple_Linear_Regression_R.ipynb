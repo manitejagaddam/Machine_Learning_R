{
 "cells": [
  {
   "cell_type": "code",
   "execution_count": 2,
   "metadata": {
    "vscode": {
     "languageId": "r"
    }
   },
   "outputs": [],
   "source": [
    "df <- read.csv(\"50_Startups.csv\")"
   ]
  },
  {
   "cell_type": "code",
   "execution_count": 3,
   "metadata": {
    "vscode": {
     "languageId": "r"
    }
   },
   "outputs": [
    {
     "data": {
      "text/html": [
       "<table class=\"dataframe\">\n",
       "<caption>A data.frame: 6 × 5</caption>\n",
       "<thead>\n",
       "\t<tr><th></th><th scope=col>R.D.Spend</th><th scope=col>Administration</th><th scope=col>Marketing.Spend</th><th scope=col>State</th><th scope=col>Profit</th></tr>\n",
       "\t<tr><th></th><th scope=col>&lt;dbl&gt;</th><th scope=col>&lt;dbl&gt;</th><th scope=col>&lt;dbl&gt;</th><th scope=col>&lt;chr&gt;</th><th scope=col>&lt;dbl&gt;</th></tr>\n",
       "</thead>\n",
       "<tbody>\n",
       "\t<tr><th scope=row>1</th><td>165349.2</td><td>136897.80</td><td>471784.1</td><td>New York  </td><td>192261.8</td></tr>\n",
       "\t<tr><th scope=row>2</th><td>162597.7</td><td>151377.59</td><td>443898.5</td><td>California</td><td>191792.1</td></tr>\n",
       "\t<tr><th scope=row>3</th><td>153441.5</td><td>101145.55</td><td>407934.5</td><td>Florida   </td><td>191050.4</td></tr>\n",
       "\t<tr><th scope=row>4</th><td>144372.4</td><td>118671.85</td><td>383199.6</td><td>New York  </td><td>182902.0</td></tr>\n",
       "\t<tr><th scope=row>5</th><td>142107.3</td><td> 91391.77</td><td>366168.4</td><td>Florida   </td><td>166187.9</td></tr>\n",
       "\t<tr><th scope=row>6</th><td>131876.9</td><td> 99814.71</td><td>362861.4</td><td>New York  </td><td>156991.1</td></tr>\n",
       "</tbody>\n",
       "</table>\n"
      ],
      "text/latex": [
       "A data.frame: 6 × 5\n",
       "\\begin{tabular}{r|lllll}\n",
       "  & R.D.Spend & Administration & Marketing.Spend & State & Profit\\\\\n",
       "  & <dbl> & <dbl> & <dbl> & <chr> & <dbl>\\\\\n",
       "\\hline\n",
       "\t1 & 165349.2 & 136897.80 & 471784.1 & New York   & 192261.8\\\\\n",
       "\t2 & 162597.7 & 151377.59 & 443898.5 & California & 191792.1\\\\\n",
       "\t3 & 153441.5 & 101145.55 & 407934.5 & Florida    & 191050.4\\\\\n",
       "\t4 & 144372.4 & 118671.85 & 383199.6 & New York   & 182902.0\\\\\n",
       "\t5 & 142107.3 &  91391.77 & 366168.4 & Florida    & 166187.9\\\\\n",
       "\t6 & 131876.9 &  99814.71 & 362861.4 & New York   & 156991.1\\\\\n",
       "\\end{tabular}\n"
      ],
      "text/markdown": [
       "\n",
       "A data.frame: 6 × 5\n",
       "\n",
       "| <!--/--> | R.D.Spend &lt;dbl&gt; | Administration &lt;dbl&gt; | Marketing.Spend &lt;dbl&gt; | State &lt;chr&gt; | Profit &lt;dbl&gt; |\n",
       "|---|---|---|---|---|---|\n",
       "| 1 | 165349.2 | 136897.80 | 471784.1 | New York   | 192261.8 |\n",
       "| 2 | 162597.7 | 151377.59 | 443898.5 | California | 191792.1 |\n",
       "| 3 | 153441.5 | 101145.55 | 407934.5 | Florida    | 191050.4 |\n",
       "| 4 | 144372.4 | 118671.85 | 383199.6 | New York   | 182902.0 |\n",
       "| 5 | 142107.3 |  91391.77 | 366168.4 | Florida    | 166187.9 |\n",
       "| 6 | 131876.9 |  99814.71 | 362861.4 | New York   | 156991.1 |\n",
       "\n"
      ],
      "text/plain": [
       "  R.D.Spend Administration Marketing.Spend State      Profit  \n",
       "1 165349.2  136897.80      471784.1        New York   192261.8\n",
       "2 162597.7  151377.59      443898.5        California 191792.1\n",
       "3 153441.5  101145.55      407934.5        Florida    191050.4\n",
       "4 144372.4  118671.85      383199.6        New York   182902.0\n",
       "5 142107.3   91391.77      366168.4        Florida    166187.9\n",
       "6 131876.9   99814.71      362861.4        New York   156991.1"
      ]
     },
     "metadata": {},
     "output_type": "display_data"
    }
   ],
   "source": [
    "head(df)"
   ]
  },
  {
   "cell_type": "code",
   "execution_count": 8,
   "metadata": {
    "vscode": {
     "languageId": "r"
    }
   },
   "outputs": [],
   "source": [
    "y <- df[5]\n",
    "x <- df[-5]"
   ]
  },
  {
   "cell_type": "code",
   "execution_count": 12,
   "metadata": {
    "vscode": {
     "languageId": "r"
    }
   },
   "outputs": [],
   "source": [
    "lm(df$Profit ~ df$R.D.Spend + df$Administration + df$Marketing.Spend + df$State, data = df) -> model"
   ]
  },
  {
   "cell_type": "code",
   "execution_count": 13,
   "metadata": {
    "vscode": {
     "languageId": "r"
    }
   },
   "outputs": [
    {
     "data": {
      "text/plain": [
       "\n",
       "Call:\n",
       "lm(formula = df$Profit ~ df$R.D.Spend + df$Administration + df$Marketing.Spend + \n",
       "    df$State, data = df)\n",
       "\n",
       "Residuals:\n",
       "   Min     1Q Median     3Q    Max \n",
       "-33504  -4736     90   6672  17338 \n",
       "\n",
       "Coefficients:\n",
       "                     Estimate Std. Error t value Pr(>|t|)    \n",
       "(Intercept)         5.013e+04  6.885e+03   7.281 4.44e-09 ***\n",
       "df$R.D.Spend        8.060e-01  4.641e-02  17.369  < 2e-16 ***\n",
       "df$Administration  -2.700e-02  5.223e-02  -0.517    0.608    \n",
       "df$Marketing.Spend  2.698e-02  1.714e-02   1.574    0.123    \n",
       "df$StateFlorida     1.988e+02  3.371e+03   0.059    0.953    \n",
       "df$StateNew York   -4.189e+01  3.256e+03  -0.013    0.990    \n",
       "---\n",
       "Signif. codes:  0 '***' 0.001 '**' 0.01 '*' 0.05 '.' 0.1 ' ' 1\n",
       "\n",
       "Residual standard error: 9439 on 44 degrees of freedom\n",
       "Multiple R-squared:  0.9508,\tAdjusted R-squared:  0.9452 \n",
       "F-statistic: 169.9 on 5 and 44 DF,  p-value: < 2.2e-16\n"
      ]
     },
     "metadata": {},
     "output_type": "display_data"
    }
   ],
   "source": [
    "summary(model)"
   ]
  }
 ],
 "metadata": {
  "kernelspec": {
   "display_name": "R",
   "language": "R",
   "name": "ir"
  },
  "language_info": {
   "codemirror_mode": "r",
   "file_extension": ".r",
   "mimetype": "text/x-r-source",
   "name": "R",
   "pygments_lexer": "r",
   "version": "4.4.2"
  }
 },
 "nbformat": 4,
 "nbformat_minor": 2
}
